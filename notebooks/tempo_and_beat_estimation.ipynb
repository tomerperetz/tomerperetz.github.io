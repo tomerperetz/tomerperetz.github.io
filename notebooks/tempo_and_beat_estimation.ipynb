{
 "cells": [
  {
   "cell_type": "markdown",
   "id": "babf744e-c895-449c-8265-1ae34596b602",
   "metadata": {},
   "source": [
    "# Estimating tempo and beat"
   ]
  },
  {
   "cell_type": "code",
   "execution_count": 17,
   "id": "654fdac3-5838-4241-8d9b-6983059afae9",
   "metadata": {},
   "outputs": [],
   "source": [
    "import librosa\n",
    "import pandas as pd\n",
    "from pathlib import Path\n",
    "from IPython.display import Audio\n",
    "import librosa.display\n",
    "import matplotlib.pyplot as plt\n",
    "from tqdm.notebook import tqdm\n",
    "import numpy as np\n",
    "import random"
   ]
  },
  {
   "cell_type": "markdown",
   "id": "80cb7ca4-6482-417d-8779-6070994aefef",
   "metadata": {},
   "source": [
    "Dataset: https://www.kaggle.com/datasets/andradaolteanu/gtzan-dataset-music-genre-classification"
   ]
  },
  {
   "cell_type": "markdown",
   "id": "f50b2330-516a-464d-b681-d47ac868a481",
   "metadata": {},
   "source": [
    "typical tempos by musical genre"
   ]
  },
  {
   "cell_type": "code",
   "execution_count": 7,
   "id": "0ddb3475-0234-45d7-95df-221fad851234",
   "metadata": {},
   "outputs": [],
   "source": [
    "default_tempo = 120\n",
    "typical_tempo = {\n",
    "    \"reggae\": 60,\n",
    "    \"blues\": default_tempo,\n",
    "    \"classical\": default_tempo,\n",
    "    \"country\": default_tempo,\n",
    "    \"disco\": default_tempo,\n",
    "    \"hiphop\": 85,\n",
    "    \"jazz\": 120,\n",
    "    \"metal\": 100,\n",
    "    \"pop\": 100,\n",
    "    \"rock\": 110\n",
    "}"
   ]
  },
  {
   "cell_type": "markdown",
   "id": "45cee8d2-1bc8-4238-9bbb-94a3d81340d5",
   "metadata": {},
   "source": [
    "# Dataloader\n",
    "\n",
    "all data will be loaded to DataFrame, so we can watch some statistics about the beat.<br /> \n",
    "some files are corrupted, hence the 'try-except' <br /> \n",
    "we can use the y_perc component for more accurate results, but loading the data will be signifcatly slower"
   ]
  },
  {
   "cell_type": "code",
   "execution_count": 10,
   "id": "5cb803b6-8100-4c06-b99e-a87164add620",
   "metadata": {},
   "outputs": [],
   "source": [
    "dataset_path = Path(\"./audio/gtzan/genres_original\")"
   ]
  },
  {
   "cell_type": "code",
   "execution_count": 14,
   "id": "bda7f926-d4b8-445a-9ee9-264ee4db35b1",
   "metadata": {},
   "outputs": [
    {
     "data": {
      "application/vnd.jupyter.widget-view+json": {
       "model_id": "cebb8b8dc22a4a0eb9e46b0fae4185a6",
       "version_major": 2,
       "version_minor": 0
      },
      "text/plain": [
       "0it [00:00, ?it/s]"
      ]
     },
     "metadata": {},
     "output_type": "display_data"
    },
    {
     "name": "stderr",
     "output_type": "stream",
     "text": [
      "/Users/tomer/miniforge3/envs/ml4music/lib/python3.10/site-packages/librosa/util/decorators.py:88: UserWarning: PySoundFile failed. Trying audioread instead.\n",
      "  return f(*args, **kwargs)\n"
     ]
    }
   ],
   "source": [
    "data = list()\n",
    "for fin in tqdm(dataset_path.rglob(\"*.wav\")):\n",
    "    sample_data = dict()\n",
    "    sample_data['fname'] = fin\n",
    "    sample_data['genre'] = fin.parent.name\n",
    "    try:\n",
    "        y, sr = librosa.load(str(fin))\n",
    "    except:\n",
    "        continue\n",
    "    onset_env = librosa.onset.onset_strength(y=y, sr=sr ,aggregate=np.median)\n",
    "    sample_data['tempo'], sample_data['beat'] = librosa.beat.beat_track(onset_envelope=onset_env,sr=sr, start_bpm=typical_tempo[sample_data['genre']])\n",
    "    data.append(sample_data)\n",
    "    \n",
    "df = pd.DataFrame(data)"
   ]
  },
  {
   "cell_type": "markdown",
   "id": "2f884573-3c1c-434b-971e-ca7a479e6265",
   "metadata": {},
   "source": [
    "lets see the mean tempo estimated by genre <br /> \n",
    "you will notice estimated tempo is very close to the nominal value for the genre, that's because the algorithm under the hood is weighting the estimated tempo using the nominal tempo provided.<br /> \n",
    "http://labrosa.ee.columbia.edu/projects/beattrack/"
   ]
  },
  {
   "cell_type": "code",
   "execution_count": 15,
   "id": "3244f058-0cdd-4946-a0bc-ace3807ad811",
   "metadata": {},
   "outputs": [
    {
     "data": {
      "text/html": [
       "<div>\n",
       "<style scoped>\n",
       "    .dataframe tbody tr th:only-of-type {\n",
       "        vertical-align: middle;\n",
       "    }\n",
       "\n",
       "    .dataframe tbody tr th {\n",
       "        vertical-align: top;\n",
       "    }\n",
       "\n",
       "    .dataframe thead th {\n",
       "        text-align: right;\n",
       "    }\n",
       "</style>\n",
       "<table border=\"1\" class=\"dataframe\">\n",
       "  <thead>\n",
       "    <tr style=\"text-align: right;\">\n",
       "      <th></th>\n",
       "      <th>tempo</th>\n",
       "    </tr>\n",
       "    <tr>\n",
       "      <th>genre</th>\n",
       "      <th></th>\n",
       "    </tr>\n",
       "  </thead>\n",
       "  <tbody>\n",
       "    <tr>\n",
       "      <th>reggae</th>\n",
       "      <td>67.143026</td>\n",
       "    </tr>\n",
       "    <tr>\n",
       "      <th>hiphop</th>\n",
       "      <td>87.833855</td>\n",
       "    </tr>\n",
       "    <tr>\n",
       "      <th>pop</th>\n",
       "      <td>98.083929</td>\n",
       "    </tr>\n",
       "    <tr>\n",
       "      <th>metal</th>\n",
       "      <td>107.865407</td>\n",
       "    </tr>\n",
       "    <tr>\n",
       "      <th>country</th>\n",
       "      <td>110.858840</td>\n",
       "    </tr>\n",
       "    <tr>\n",
       "      <th>rock</th>\n",
       "      <td>113.381383</td>\n",
       "    </tr>\n",
       "    <tr>\n",
       "      <th>jazz</th>\n",
       "      <td>114.937353</td>\n",
       "    </tr>\n",
       "    <tr>\n",
       "      <th>disco</th>\n",
       "      <td>120.341798</td>\n",
       "    </tr>\n",
       "    <tr>\n",
       "      <th>blues</th>\n",
       "      <td>120.781960</td>\n",
       "    </tr>\n",
       "    <tr>\n",
       "      <th>classical</th>\n",
       "      <td>127.293491</td>\n",
       "    </tr>\n",
       "  </tbody>\n",
       "</table>\n",
       "</div>"
      ],
      "text/plain": [
       "                tempo\n",
       "genre                \n",
       "reggae      67.143026\n",
       "hiphop      87.833855\n",
       "pop         98.083929\n",
       "metal      107.865407\n",
       "country    110.858840\n",
       "rock       113.381383\n",
       "jazz       114.937353\n",
       "disco      120.341798\n",
       "blues      120.781960\n",
       "classical  127.293491"
      ]
     },
     "execution_count": 15,
     "metadata": {},
     "output_type": "execute_result"
    }
   ],
   "source": [
    "df.groupby(\"genre\")[\"tempo\"].mean().to_frame().sort_values(by=\"tempo\")"
   ]
  },
  {
   "cell_type": "code",
   "execution_count": 19,
   "id": "5fa97547-0bf3-4efb-b97b-2bd28e63c12b",
   "metadata": {},
   "outputs": [
    {
     "ename": "AttributeError",
     "evalue": "'str' object has no attribute 'name'",
     "output_type": "error",
     "traceback": [
      "\u001b[0;31m---------------------------------------------------------------------------\u001b[0m",
      "\u001b[0;31mAttributeError\u001b[0m                            Traceback (most recent call last)",
      "Cell \u001b[0;32mIn[19], line 6\u001b[0m\n\u001b[1;32m      4\u001b[0m idx \u001b[38;5;241m=\u001b[39m random\u001b[38;5;241m.\u001b[39mrandint(\u001b[38;5;241m0\u001b[39m, cdf\u001b[38;5;241m.\u001b[39mcount()[\u001b[38;5;241m0\u001b[39m])\n\u001b[1;32m      5\u001b[0m row \u001b[38;5;241m=\u001b[39m cdf\u001b[38;5;241m.\u001b[39miloc[idx]\n\u001b[0;32m----> 6\u001b[0m fname \u001b[38;5;241m=\u001b[39m \u001b[43mrow\u001b[49m\u001b[43m[\u001b[49m\u001b[38;5;124;43m\"\u001b[39;49m\u001b[38;5;124;43mfname\u001b[39;49m\u001b[38;5;124;43m\"\u001b[39;49m\u001b[43m]\u001b[49m\u001b[38;5;241;43m.\u001b[39;49m\u001b[43mname\u001b[49m\n\u001b[1;32m      7\u001b[0m y, sr \u001b[38;5;241m=\u001b[39m librosa\u001b[38;5;241m.\u001b[39mload(row[\u001b[38;5;124m\"\u001b[39m\u001b[38;5;124mfname\u001b[39m\u001b[38;5;124m\"\u001b[39m])\n\u001b[1;32m      8\u001b[0m tempo \u001b[38;5;241m=\u001b[39m row[\u001b[38;5;124m\"\u001b[39m\u001b[38;5;124mtempo\u001b[39m\u001b[38;5;124m\"\u001b[39m]\n",
      "\u001b[0;31mAttributeError\u001b[0m: 'str' object has no attribute 'name'"
     ]
    }
   ],
   "source": [
    "genre = \"blues\"  \n",
    "\n",
    "cdf = df[df[\"genre\"]==genre]\n",
    "idx = random.randint(0, cdf.count()[0])\n",
    "row = cdf.iloc[idx]\n",
    "fname = row[\"fname\"].name\n",
    "y, sr = librosa.load(row[\"fname\"])\n",
    "tempo = row[\"tempo\"]\n",
    "beats = row[\"beat\"]\n",
    "\n",
    "Audio(y, rate=sr)\n",
    "\n",
    "hop_length = 512\n",
    "fig, ax = plt.subplots(nrows=4, figsize=(10, 10))\n",
    "fig.suptitle(\"Mary Had A Little Lamb by Stevie Ray Vaughan And Double Trouble (Blues)\")\n",
    "times = librosa.times_like(onset_env, sr=sr, hop_length=hop_length)\n",
    "M = librosa.feature.melspectrogram(y=y, sr=sr, hop_length=hop_length)\n",
    "librosa.display.specshow(librosa.power_to_db(M, ref=np.max),y_axis='mel', x_axis='time', hop_length=hop_length, ax=ax[0])\n",
    "ax[0].label_outer()\n",
    "ax[0].set(title='Mel spectrogram')\n",
    "\n",
    "ax[1].plot(times, librosa.util.normalize(onset_env),label='Onset strength')\n",
    "ax[1].vlines(times[beats], 0, 1, alpha=0.5, color='r', linestyle='--', label='Beats')\n",
    "ax[1].legend()\n",
    "ax[1].set(title=f'Beats, tempo detected: {int(tempo)}')\n",
    "\n",
    "y_harm, y_perc = librosa.effects.hpss(y)\n",
    "ax[2].plot(y_harm, color = '#028A0F', label=\"harmony\")\n",
    "ax[2].plot(y_perc, color = '#FFB100', label=\"percussive\")\n",
    "ax[2].legend()\n",
    "ax[2].set(title=f'Percussive and Harmonic elemnts of the song')\n",
    "\n",
    "ax[3].psd(y,Fs=sr)\n",
    "ax[3].set(title=f'Power Spectral Denisty (PSD)')\n",
    "\n",
    "plt.tight_layout()\n",
    "plt.show()\n"
   ]
  },
  {
   "cell_type": "code",
   "execution_count": null,
   "id": "150beb86-8680-47a7-aa91-17ba00e6a59a",
   "metadata": {},
   "outputs": [],
   "source": []
  }
 ],
 "metadata": {
  "kernelspec": {
   "display_name": "Python 3 (ipykernel)",
   "language": "python",
   "name": "python3"
  },
  "language_info": {
   "codemirror_mode": {
    "name": "ipython",
    "version": 3
   },
   "file_extension": ".py",
   "mimetype": "text/x-python",
   "name": "python",
   "nbconvert_exporter": "python",
   "pygments_lexer": "ipython3",
   "version": "3.10.8"
  }
 },
 "nbformat": 4,
 "nbformat_minor": 5
}
