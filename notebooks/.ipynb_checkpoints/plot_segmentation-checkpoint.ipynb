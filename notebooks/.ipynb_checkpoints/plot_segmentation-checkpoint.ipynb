{
  "cells": [
    {
      "cell_type": "code",
      "outputs": [],
      "source": [
        "%matplotlib inline"
      ],
      "execution_count": null,
      "metadata": {
        "collapsed": false
      }
    },
    {
      "cell_type": "markdown",
      "source": [
        "\n# Laplacian segmentation\n\n\nThis notebook implements the laplacian segmentation method of\n`McFee and Ellis, 2014 <http://bmcfee.github.io/papers/ismir2014_spectral.pdf>`_,\nwith a couple of minor stability improvements.\n\nThroughout the example, we will refer to equations in the paper by number, so it will be\nhelpful to read along.\n\n"
      ],
      "metadata": {}
    },
    {
      "cell_type": "code",
      "outputs": [],
      "source": [
        "# Code source: Brian McFee\n# License: ISC"
      ],
      "execution_count": null,
      "metadata": {
        "collapsed": false
      }
    },
    {
      "cell_type": "markdown",
      "source": [
        "Imports\n  - numpy for basic functionality\n  - scipy for graph Laplacian\n  - matplotlib for visualization\n  - sklearn.cluster for K-Means\n\n\n"
      ],
      "metadata": {}
    },
    {
      "cell_type": "code",
      "outputs": [],
      "source": [
        "from __future__ import print_function\n\nimport numpy as np\nimport scipy\nimport matplotlib.pyplot as plt\n\nimport sklearn.cluster\n\nimport librosa\nimport librosa.display"
      ],
      "execution_count": null,
      "metadata": {
        "collapsed": false
      }
    },
    {
      "cell_type": "markdown",
      "source": [
        "First, we'll load in a song\n\n"
      ],
      "metadata": {}
    },
    {
      "cell_type": "code",
      "outputs": [],
      "source": [
        "y, sr = librosa.load('audio/Karissa_Hobbs_-_09_-_Lets_Go_Fishin.mp3')"
      ],
      "execution_count": null,
      "metadata": {
        "collapsed": false
      }
    },
    {
      "cell_type": "markdown",
      "source": [
        "Next, we'll compute and plot a log-power CQT\n\n"
      ],
      "metadata": {}
    },
    {
      "cell_type": "code",
      "outputs": [],
      "source": [
        "BINS_PER_OCTAVE = 12 * 3\nN_OCTAVES = 7\nC = librosa.amplitude_to_db(librosa.cqt(y=y, sr=sr,\n                                        bins_per_octave=BINS_PER_OCTAVE,\n                                        n_bins=N_OCTAVES * BINS_PER_OCTAVE),\n                            ref=np.max)\n\nplt.figure(figsize=(12, 4))\nlibrosa.display.specshow(C, y_axis='cqt_hz', sr=sr,\n                         bins_per_octave=BINS_PER_OCTAVE,\n                         x_axis='time')\nplt.tight_layout()"
      ],
      "execution_count": null,
      "metadata": {
        "collapsed": false
      }
    },
    {
      "cell_type": "markdown",
      "source": [
        "To reduce dimensionality, we'll beat-synchronous the CQT\n\n"
      ],
      "metadata": {}
    },
    {
      "cell_type": "code",
      "outputs": [],
      "source": [
        "tempo, beats = librosa.beat.beat_track(y=y, sr=sr, trim=False)\nCsync = librosa.util.sync(C, beats, aggregate=np.median)\n\n# For plotting purposes, we'll need the timing of the beats\n# we fix_frames to include non-beat frames 0 and C.shape[1] (final frame)\nbeat_times = librosa.frames_to_time(librosa.util.fix_frames(beats,\n                                                            x_min=0,\n                                                            x_max=C.shape[1]),\n                                    sr=sr)\n\nplt.figure(figsize=(12, 4))\nlibrosa.display.specshow(Csync, bins_per_octave=12*3,\n                         y_axis='cqt_hz', x_axis='time',\n                         x_coords=beat_times)\nplt.tight_layout()"
      ],
      "execution_count": null,
      "metadata": {
        "collapsed": false
      }
    },
    {
      "cell_type": "markdown",
      "source": [
        "Let's build a weighted recurrence matrix using beat-synchronous CQT\n(Equation 1)\nwidth=3 prevents links within the same bar\nmode='affinity' here implements S_rep (after Eq. 8)\n\n"
      ],
      "metadata": {}
    },
    {
      "cell_type": "code",
      "outputs": [],
      "source": [
        "R = librosa.segment.recurrence_matrix(Csync, width=3, mode='affinity',\n                                      sym=True)\n\n# Enhance diagonals with a median filter (Equation 2)\ndf = librosa.segment.timelag_filter(scipy.ndimage.median_filter)\nRf = df(R, size=(1, 7))"
      ],
      "execution_count": null,
      "metadata": {
        "collapsed": false
      }
    },
    {
      "cell_type": "markdown",
      "source": [
        "Now let's build the sequence matrix (S_loc) using mfcc-similarity\n\n  $R_\\text{path}[i, i\\pm 1] = \\exp(-\\|C_i - C_{i\\pm 1}\\|^2 / \\sigma^2)$\n\nHere, we take $\\sigma$ to be the median distance between successive beats.\n\n\n"
      ],
      "metadata": {}
    },
    {
      "cell_type": "code",
      "outputs": [],
      "source": [
        "mfcc = librosa.feature.mfcc(y=y, sr=sr)\nMsync = librosa.util.sync(mfcc, beats)\n\npath_distance = np.sum(np.diff(Msync, axis=1)**2, axis=0)\nsigma = np.median(path_distance)\npath_sim = np.exp(-path_distance / sigma)\n\nR_path = np.diag(path_sim, k=1) + np.diag(path_sim, k=-1)"
      ],
      "execution_count": null,
      "metadata": {
        "collapsed": false
      }
    },
    {
      "cell_type": "markdown",
      "source": [
        "And compute the balanced combination (Equations 6, 7, 9)\n\n"
      ],
      "metadata": {}
    },
    {
      "cell_type": "code",
      "outputs": [],
      "source": [
        "deg_path = np.sum(R_path, axis=1)\ndeg_rec = np.sum(Rf, axis=1)\n\nmu = deg_path.dot(deg_path + deg_rec) / np.sum((deg_path + deg_rec)**2)\n\nA = mu * Rf + (1 - mu) * R_path"
      ],
      "execution_count": null,
      "metadata": {
        "collapsed": false
      }
    },
    {
      "cell_type": "markdown",
      "source": [
        "Plot the resulting graphs (Figure 1, left and center)\n\n"
      ],
      "metadata": {}
    },
    {
      "cell_type": "code",
      "outputs": [],
      "source": [
        "plt.figure(figsize=(8, 4))\nplt.subplot(1, 3, 1)\nlibrosa.display.specshow(Rf, cmap='inferno_r', y_axis='time',\n                         y_coords=beat_times)\nplt.title('Recurrence similarity')\nplt.subplot(1, 3, 2)\nlibrosa.display.specshow(R_path, cmap='inferno_r')\nplt.title('Path similarity')\nplt.subplot(1, 3, 3)\nlibrosa.display.specshow(A, cmap='inferno_r')\nplt.title('Combined graph')\nplt.tight_layout()"
      ],
      "execution_count": null,
      "metadata": {
        "collapsed": false
      }
    },
    {
      "cell_type": "markdown",
      "source": [
        "Now let's compute the normalized Laplacian (Eq. 10)\n\n"
      ],
      "metadata": {}
    },
    {
      "cell_type": "code",
      "outputs": [],
      "source": [
        "L = scipy.sparse.csgraph.laplacian(A, normed=True)\n\n\n# and its spectral decomposition\nevals, evecs = scipy.linalg.eigh(L)\n\n\n# We can clean this up further with a median filter.\n# This can help smooth over small discontinuities\nevecs = scipy.ndimage.median_filter(evecs, size=(9, 1))\n\n\n# cumulative normalization is needed for symmetric normalize laplacian eigenvectors\nCnorm = np.cumsum(evecs**2, axis=1)**0.5\n\n# If we want k clusters, use the first k normalized eigenvectors.\n# Fun exercise: see how the segmentation changes as you vary k\n\nk = 5\n\nX = evecs[:, :k] / Cnorm[:, k-1:k]\n\n\n# Plot the resulting representation (Figure 1, center and right)\n\nplt.figure(figsize=(8, 4))\nplt.subplot(1, 2, 2)\nlibrosa.display.specshow(Rf, cmap='inferno_r')\nplt.title('Recurrence matrix')\n\nplt.subplot(1, 2, 1)\nlibrosa.display.specshow(X,\n                         y_axis='time',\n                         y_coords=beat_times)\nplt.title('Structure components')\nplt.tight_layout()"
      ],
      "execution_count": null,
      "metadata": {
        "collapsed": false
      }
    },
    {
      "cell_type": "markdown",
      "source": [
        "Let's use these k components to cluster beats into segments\n(Algorithm 1)\n\n"
      ],
      "metadata": {}
    },
    {
      "cell_type": "code",
      "outputs": [],
      "source": [
        "KM = sklearn.cluster.KMeans(n_clusters=k)\n\nseg_ids = KM.fit_predict(X)\n\n\n# and plot the results\nplt.figure(figsize=(12, 4))\ncolors = plt.get_cmap('Paired', k)\n\nplt.subplot(1, 3, 2)\nlibrosa.display.specshow(Rf, cmap='inferno_r')\nplt.title('Recurrence matrix')\nplt.subplot(1, 3, 1)\nlibrosa.display.specshow(X,\n                         y_axis='time',\n                         y_coords=beat_times)\nplt.title('Structure components')\nplt.subplot(1, 3, 3)\nlibrosa.display.specshow(np.atleast_2d(seg_ids).T, cmap=colors)\nplt.title('Estimated segments')\nplt.colorbar(ticks=range(k))\nplt.tight_layout()"
      ],
      "execution_count": null,
      "metadata": {
        "collapsed": false
      }
    },
    {
      "cell_type": "markdown",
      "source": [
        "Locate segment boundaries from the label sequence\n\n"
      ],
      "metadata": {}
    },
    {
      "cell_type": "code",
      "outputs": [],
      "source": [
        "bound_beats = 1 + np.flatnonzero(seg_ids[:-1] != seg_ids[1:])\n\n# Count beat 0 as a boundary\nbound_beats = librosa.util.fix_frames(bound_beats, x_min=0)\n\n# Compute the segment label for each boundary\nbound_segs = list(seg_ids[bound_beats])\n\n# Convert beat indices to frames\nbound_frames = beats[bound_beats]\n\n# Make sure we cover to the end of the track\nbound_frames = librosa.util.fix_frames(bound_frames,\n                                       x_min=None,\n                                       x_max=C.shape[1]-1)"
      ],
      "execution_count": null,
      "metadata": {
        "collapsed": false
      }
    },
    {
      "cell_type": "markdown",
      "source": [
        "And plot the final segmentation over original CQT\n\n"
      ],
      "metadata": {}
    },
    {
      "cell_type": "code",
      "outputs": [],
      "source": [
        "# sphinx_gallery_thumbnail_number = 5\n\nimport matplotlib.patches as patches\nplt.figure(figsize=(12, 4))\n\nbound_times = librosa.frames_to_time(bound_frames)\nfreqs = librosa.cqt_frequencies(n_bins=C.shape[0],\n                                fmin=librosa.note_to_hz('C1'),\n                                bins_per_octave=BINS_PER_OCTAVE)\n\nlibrosa.display.specshow(C, y_axis='cqt_hz', sr=sr,\n                         bins_per_octave=BINS_PER_OCTAVE,\n                         x_axis='time')\nax = plt.gca()\n\nfor interval, label in zip(zip(bound_times, bound_times[1:]), bound_segs):\n    ax.add_patch(patches.Rectangle((interval[0], freqs[0]),\n                                   interval[1] - interval[0],\n                                   freqs[-1],\n                                   facecolor=colors(label),\n                                   alpha=0.50))\n\nplt.tight_layout()\nplt.show()"
      ],
      "execution_count": null,
      "metadata": {
        "collapsed": false
      }
    }
  ],
  "nbformat": 4,
  "nbformat_minor": 0,
  "metadata": {
    "language_info": {
      "codemirror_mode": {
        "name": "ipython",
        "version": 3
      },
      "mimetype": "text/x-python",
      "name": "python",
      "version": "3.5.3",
      "file_extension": ".py",
      "nbconvert_exporter": "python",
      "pygments_lexer": "ipython3"
    },
    "kernelspec": {
      "name": "python3",
      "language": "python",
      "display_name": "Python 3"
    }
  }
}